{
  "nbformat": 4,
  "nbformat_minor": 0,
  "metadata": {
    "colab": {
      "name": "Perpectival Time Arrow.ipynb",
      "version": "0.3.2",
      "provenance": [],
      "include_colab_link": true
    },
    "kernelspec": {
      "name": "python3",
      "display_name": "Python 3"
    }
  },
  "cells": [
    {
      "cell_type": "markdown",
      "metadata": {
        "id": "view-in-github",
        "colab_type": "text"
      },
      "source": [
        "[View in Colaboratory](https://colab.research.google.com/github/uhotspot4/test1/blob/master/Perpectival_Time_Arrow.ipynb)"
      ]
    },
    {
      "metadata": {
        "id": "0vWq_yx2-CPe",
        "colab_type": "code",
        "colab": {
          "base_uri": "https://localhost:8080/",
          "height": 52
        },
        "outputId": "c9181634-b95e-4614-a3f6-e56eea0ee2bb"
      },
      "cell_type": "code",
      "source": [
        "# 3x3 grid\n",
        "# 4 balls\n",
        "\n",
        "import itertools\n",
        "\n",
        "meanIncreased = 0\n",
        "\n",
        "x_len = 4\n",
        "num_of_balls = 4\n",
        "x_range = [x/x_len for x in range(-1*x_len, x_len+1)]\n",
        "y_range = [x/x_len for x in range(0, x_len+1)]\n",
        "states = itertools.product(x_range, y_range)\n",
        "\n",
        "ball_states = itertools.combinations(states, num_of_balls)\n",
        "\n",
        "#print(list(ball_states))\n",
        "\n",
        "def mean_balls(balls):\n",
        "    sum = 0\n",
        "    for ball in balls:      \n",
        "      #if ball[0] >= 0: # if ball is on the right hand side\n",
        "      sum += ball[0]\n",
        "    return sum / len(balls)\n",
        "\n",
        "means = []\n",
        "for ball_state in ball_states:\n",
        "  means.append(mean_balls(ball_state))\n",
        "\n",
        "for i in range(len(means)-1):\n",
        "  if means[i] < means[i+1]:\n",
        "    meanIncreased += 1\n",
        "  elif means[i] > means[i+1]:\n",
        "    meanIncreased -= 1\n",
        "  \n",
        "#print(means)\n",
        "print(meanIncreased)\n",
        "  \n",
        "#   sum(itertools.starmap(lambda ball: ball[0], balls))\n",
        "#print(mean_balls(((0, 0), (0, 1), (0, 2), (1, 0))))\n",
        "\n",
        "# l = [1,2,3,4]\n",
        "# print(list(itertools.permutations(l)))\n",
        "# print(list(itertools.combinations(l, 2)))\n",
        "# print(list(itertools.product(l, l)))\n",
        "#print([x/20 for x in range(20)])"
      ],
      "execution_count": 1,
      "outputs": [
        {
          "output_type": "stream",
          "text": [
            "0.0\n",
            "14387\n"
          ],
          "name": "stdout"
        }
      ]
    },
    {
      "metadata": {
        "id": "UK7s4QzR_Jun",
        "colab_type": "code",
        "colab": {
          "base_uri": "https://localhost:8080/",
          "height": 400
        },
        "outputId": "69a31115-a29a-4965-b6d3-caa59d53e173"
      },
      "cell_type": "code",
      "source": [
        "import matplotlib.pyplot as plt\n",
        "sum(means)\n",
        "plt.hist(means, bins=4)"
      ],
      "execution_count": 4,
      "outputs": [
        {
          "output_type": "execute_result",
          "data": {
            "text/plain": [
              "(array([ 6560., 62185., 70135., 10115.]),\n",
              " array([-1. , -0.5,  0. ,  0.5,  1. ]),\n",
              " <a list of 4 Patch objects>)"
            ]
          },
          "metadata": {
            "tags": []
          },
          "execution_count": 4
        },
        {
          "output_type": "display_data",
          "data": {
            "image/png": "[encoded data removed]",
            "text/plain": [
              "<matplotlib.figure.Figure at 0x7f080e1b4b00>"
            ]
          },
          "metadata": {
            "tags": []
          }
        }
      ]
    },
    {
      "metadata": {
        "id": "3kDCuDAKPNvh",
        "colab_type": "code",
        "colab": {}
      },
      "cell_type": "code",
      "source": [
        "def configure_plotly_browser_state():\n",
        "  import IPython\n",
        "  display(IPython.core.display.HTML('''\n",
        "        <script src=\"/static/components/requirejs/require.js\"></script>\n",
        "        <script>\n",
        "          requirejs.config({\n",
        "            paths: {\n",
        "              base: '/static/base',\n",
        "              plotly: 'https://cdn.plot.ly/plotly-latest.min.js?noext',\n",
        "            },\n",
        "          });\n",
        "        </script>\n",
        "        '''))\n"
      ],
      "execution_count": 0,
      "outputs": []
    },
    {
      "metadata": {
        "id": "nwNJDpy7RAvs",
        "colab_type": "code",
        "colab": {
          "base_uri": "https://localhost:8080/",
          "height": 564
        },
        "outputId": "88f20783-fda7-42ac-9f9c-fd7f478b8668"
      },
      "cell_type": "code",
      "source": [
        "import plotly.plotly as py\n",
        "#from plotly.offline import download_plotlyjs, init_notebook_mode, plot, iplot\n",
        "import plotly.graph_objs as go\n",
        "\n",
        "#init_notebook_mode(connected=True)\n",
        "py.sign_in('uhotspot', 'yoOxbUGUvYChhb2GYBWI')\n",
        "\n",
        "#configure_plotly_browser_state()  \n",
        "\n",
        "a=[1,2,3,4,5,6,7]\n",
        "b=[3,2,5,7,0,13,2]\n",
        "c=[1,1,1,1,1,1,1]\n",
        "\n",
        "trace = go.Scatter3d(x=a, y=b, z=c, mode='markers')\n",
        "data = [trace]\n",
        "py.iplot(data, filename='simple-3d-scatter')\n"
      ],
      "execution_count": 4,
      "outputs": [
        {
          "output_type": "stream",
          "text": [
            "High five! You successfully sent some data to your account on plotly. View your plot in your browser at https://plot.ly/~uhotspot/0 or inside your plot.ly account where it is named 'simple-3d-scatter'\n"
          ],
          "name": "stdout"
        },
        {
          "output_type": "execute_result",
          "data": {
            "text/html": [
              "<iframe id=\"igraph\" scrolling=\"no\" style=\"border:none;\" seamless=\"seamless\" src=\"https://plot.ly/~uhotspot/0.embed\" height=\"525px\" width=\"100%\"></iframe>"
            ],
            "text/plain": [
              "<plotly.tools.PlotlyDisplay object>"
            ]
          },
          "metadata": {
            "tags": []
          },
          "execution_count": 4
        }
      ]
    },
    {
      "metadata": {
        "id": "dUfNh8sebnHy",
        "colab_type": "code",
        "colab": {
          "base_uri": "https://localhost:8080/",
          "height": 542
        },
        "outputId": "8c783835-3601-4e2d-ea94-018c9f2bf58a"
      },
      "cell_type": "code",
      "source": [
        "#import plotly.plotly as py\n",
        "from plotly.offline import download_plotlyjs, init_notebook_mode, plot, iplot\n",
        "import plotly.graph_objs as go\n",
        "\n",
        "init_notebook_mode(connected=True)\n",
        "\n",
        "\n",
        "configure_plotly_browser_state()  \n",
        "\n",
        "a=[1,2,3,4,5,6,7]\n",
        "b=[3,2,5,7,0,13,2]\n",
        "c=[1,1,1,1,1,1,1]\n",
        "\n",
        "trace = go.Scatter3d(x=a, y=b, z=c, mode='markers')\n",
        "data = [trace]\n",
        "iplot(data, filename='simple-3d-scatter')\n"
      ],
      "execution_count": 5,
      "outputs": [
        {
          "output_type": "display_data",
          "data": {
            "text/html": [
              "<script>requirejs.config({paths: { 'plotly': ['https://cdn.plot.ly/plotly-latest.min']},});if(!window.Plotly) {{require(['plotly'],function(plotly) {window.Plotly=plotly;});}}</script>"
            ],
            "text/plain": [
              "<IPython.core.display.HTML object>"
            ]
          },
          "metadata": {
            "tags": []
          }
        },
        {
          "output_type": "display_data",
          "data": {
            "text/html": [
              "\n",
              "        <script src=\"/static/components/requirejs/require.js\"></script>\n",
              "        <script>\n",
              "          requirejs.config({\n",
              "            paths: {\n",
              "              base: '/static/base',\n",
              "              plotly: 'https://cdn.plot.ly/plotly-latest.min.js?noext',\n",
              "            },\n",
              "          });\n",
              "        </script>\n",
              "        "
            ],
            "text/plain": [
              "<IPython.core.display.HTML object>"
            ]
          },
          "metadata": {
            "tags": []
          }
        },
        {
          "output_type": "display_data",
          "data": {
            "text/html": [
              "<div id=\"19dbad64-146d-4fdb-a712-e44b74d8d6a3\" style=\"height: 525px; width: 100%;\" class=\"plotly-graph-div\"></div><script type=\"text/javascript\">require([\"plotly\"], function(Plotly) { window.PLOTLYENV=window.PLOTLYENV || {};window.PLOTLYENV.BASE_URL=\"https://plot.ly\";Plotly.newPlot(\"19dbad64-146d-4fdb-a712-e44b74d8d6a3\", [{\"type\": \"scatter3d\", \"x\": [1, 2, 3, 4, 5, 6, 7], \"y\": [3, 2, 5, 7, 0, 13, 2], \"z\": [1, 1, 1, 1, 1, 1, 1], \"mode\": \"markers\"}], {}, {\"showLink\": true, \"linkText\": \"Export to plot.ly\"})});</script>"
            ],
            "text/plain": [
              "<IPython.core.display.HTML object>"
            ]
          },
          "metadata": {
            "tags": []
          }
        }
      ]
    },
    {
      "metadata": {
        "id": "Ldvdtp_2cHoo",
        "colab_type": "code",
        "colab": {}
      },
      "cell_type": "code",
      "source": [
        ""
      ],
      "execution_count": 0,
      "outputs": []
    }
  ]
}