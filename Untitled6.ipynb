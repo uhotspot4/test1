{
  "nbformat": 4,
  "nbformat_minor": 0,
  "metadata": {
    "colab": {
      "name": "Untitled6.ipynb",
      "version": "0.3.2",
      "provenance": [],
      "toc_visible": true,
      "include_colab_link": true
    },
    "kernelspec": {
      "name": "python3",
      "display_name": "Python 3"
    }
  },
  "cells": [
    {
      "cell_type": "markdown",
      "metadata": {
        "id": "view-in-github",
        "colab_type": "text"
      },
      "source": [
        "[View in Colaboratory](https://colab.research.google.com/github/uhotspot4/test1/blob/master/Untitled6.ipynb)"
      ]
    },
    {
      "metadata": {
        "id": "W-z9ulVvMP0o",
        "colab_type": "text"
      },
      "cell_type": "markdown",
      "source": [
        "# Bias, Variance tradeoff\n"
      ]
    },
    {
      "metadata": {
        "id": "uA_3LDCEMmHN",
        "colab_type": "text"
      },
      "cell_type": "markdown",
      "source": [
        "At one extreme we can have f(x)=a\n",
        "<br>\n",
        "At the other extreme we can have f(x) where f(x) can remember every tupple of $$(x_1, x_2, ..., y)$$ format. Basically it is a lookup table.\n",
        "\n"
      ]
    }
  ]
}